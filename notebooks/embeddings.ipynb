{
 "cells": [
  {
   "cell_type": "code",
   "execution_count": null,
   "outputs": [],
   "source": [
    "import numpy as np\n",
    "import pandas as pd\n",
    "import plotly\n",
    "import plotly.express as px\n",
    "from plotly.offline import init_notebook_mode\n",
    "import torch\n",
    "from sklearn.manifold import TSNE\n",
    "\n",
    "from codegen_sources.model.deobfuscate import _reload_model\n",
    "\n",
    "init_notebook_mode(connected = False)\n",
    "MODEL_PATH = r\"/home/igor/PycharmProjects/CodeGen/training_artifacts/models/DOBF_var_shuffled.pth\""
   ],
   "metadata": {
    "collapsed": false,
    "pycharm": {
     "name": "#%%\n"
    }
   }
  },
  {
   "cell_type": "code",
   "execution_count": null,
   "outputs": [],
   "source": [
    "params, dico, (encoder, decoder) = _reload_model(MODEL_PATH)\n",
    "encoder, decoder = encoder[0], decoder[0]"
   ],
   "metadata": {
    "collapsed": false,
    "pycharm": {
     "name": "#%%\n"
    }
   }
  },
  {
   "cell_type": "code",
   "execution_count": null,
   "outputs": [],
   "source": [
    "obf_type = 'CLASS'\n",
    "var_idxs = torch.arange(dico.obf_index[obf_type], dico.obf_index[obf_type] + 500)\n",
    "var_embeddings = encoder.embeddings(var_idxs).detach().numpy().astype(np.float32)"
   ],
   "metadata": {
    "collapsed": false,
    "pycharm": {
     "name": "#%%\n"
    }
   }
  },
  {
   "cell_type": "code",
   "execution_count": null,
   "outputs": [],
   "source": [
    "var_embeddings_2 = TSNE(n_components=2, init='random', learning_rate='auto', random_state=0).fit_transform(var_embeddings)"
   ],
   "metadata": {
    "collapsed": false,
    "pycharm": {
     "name": "#%%\n"
    }
   }
  },
  {
   "cell_type": "code",
   "execution_count": null,
   "outputs": [],
   "source": [
    "t = [\"class\"] * 100 + [\"func\"] * 200 + [\"var\"] * 200\n",
    "index = list(range(100)) + list(range(200)) + list(range(200))\n",
    "df = pd.DataFrame(data={\"x\": var_embeddings_2[:, 0], \"y\": var_embeddings_2[:, 1], \"type\": t, \"index\": index})\n",
    "fig = px.scatter(df, x=\"x\", y=\"y\", color=\"type\", hover_data=[\"index\"])\n",
    "fig.update_layout(title=\"TSNE\", width=700, height=700)\n",
    "plotly.offline.iplot(fig)"
   ],
   "metadata": {
    "collapsed": false,
    "pycharm": {
     "name": "#%%\n"
    }
   }
  },
  {
   "cell_type": "markdown",
   "source": [
    "# Default DOBF embeddings"
   ],
   "metadata": {
    "collapsed": false,
    "pycharm": {
     "name": "#%% md\n"
    }
   }
  },
  {
   "cell_type": "code",
   "execution_count": null,
   "outputs": [],
   "source": [
    "MODEL_PATH = r\"/home/igor/PycharmProjects/CodeGen/training_artifacts/models/DOBF_transcoder_size.pth\""
   ],
   "metadata": {
    "collapsed": false,
    "pycharm": {
     "name": "#%%\n"
    }
   }
  },
  {
   "cell_type": "code",
   "execution_count": null,
   "outputs": [],
   "source": [
    "params, dico, (encoder, decoder) = _reload_model(MODEL_PATH)\n",
    "encoder, decoder = encoder[0], decoder[0]"
   ],
   "metadata": {
    "collapsed": false,
    "pycharm": {
     "name": "#%%\n"
    }
   }
  },
  {
   "cell_type": "code",
   "execution_count": null,
   "outputs": [],
   "source": [
    "obf_type = 'CLASS'\n",
    "var_idxs = torch.arange(dico.obf_index[obf_type], dico.obf_index[obf_type] + 500)\n",
    "var_embeddings = encoder.embeddings(var_idxs).detach().numpy().astype(np.float32)"
   ],
   "metadata": {
    "collapsed": false,
    "pycharm": {
     "name": "#%%\n"
    }
   }
  },
  {
   "cell_type": "code",
   "execution_count": null,
   "outputs": [],
   "source": [
    "var_embeddings_2 = TSNE(n_components=2, init='random', learning_rate='auto', random_state=0).fit_transform(var_embeddings)"
   ],
   "metadata": {
    "collapsed": false,
    "pycharm": {
     "name": "#%%\n"
    }
   }
  },
  {
   "cell_type": "code",
   "execution_count": null,
   "outputs": [],
   "source": [
    "t = [\"class\"] * 100 + [\"func\"] * 200 + [\"var\"] * 200\n",
    "index = list(range(100)) + list(range(200)) + list(range(200))\n",
    "df = pd.DataFrame(data={\"x\": var_embeddings_2[:, 0], \"y\": var_embeddings_2[:, 1], \"type\": t, \"index\": index})\n",
    "fig = px.scatter(df, x=\"x\", y=\"y\", color=\"type\", hover_data=[\"index\"])\n",
    "fig.update_layout(title=\"TSNE\", width=700, height=700)\n",
    "plotly.offline.iplot(fig)"
   ],
   "metadata": {
    "collapsed": false,
    "pycharm": {
     "name": "#%%\n"
    }
   }
  },
  {
   "cell_type": "code",
   "execution_count": null,
   "outputs": [],
   "source": [],
   "metadata": {
    "collapsed": false,
    "pycharm": {
     "name": "#%%\n"
    }
   }
  },
  {
   "cell_type": "code",
   "execution_count": null,
   "metadata": {},
   "outputs": [],
   "source": []
  }
 ],
 "metadata": {
  "kernelspec": {
   "display_name": "Python 3 (ipykernel)",
   "language": "python",
   "name": "python3"
  },
  "language_info": {
   "codemirror_mode": {
    "name": "ipython",
    "version": 3
   },
   "file_extension": ".py",
   "mimetype": "text/x-python",
   "name": "python",
   "nbconvert_exporter": "python",
   "pygments_lexer": "ipython3",
   "version": "3.7.12"
  }
 },
 "nbformat": 4,
 "nbformat_minor": 1
}